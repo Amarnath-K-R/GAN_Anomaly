{
 "cells": [
  {
   "cell_type": "code",
   "execution_count": null,
   "metadata": {},
   "outputs": [],
   "source": [
    "import numpy as np\n",
    "import pandas as pd\n",
    "from sklearn.preprocessing import MinMaxScaler\n",
    "from sklearn.mixture import GaussianMixture\n",
    "from tensorflow.keras.models import Sequential, Model\n",
    "from tensorflow.keras.layers import LSTM, Dense, RepeatVector, TimeDistributed, Conv1D, Flatten\n",
    "import matplotlib.pyplot as plt\n"
   ]
  },
  {
   "cell_type": "code",
   "execution_count": null,
   "metadata": {},
   "outputs": [],
   "source": [
    "# Load data\n",
    "data = pd.read_csv(\"seismic_oceanographic_data.csv\")  # Replace with actual file path\n",
    "\n",
    "# Normalize the data for stability during training\n",
    "scaler = MinMaxScaler()\n",
    "data_scaled = scaler.fit_transform(data)\n",
    "\n",
    "# Set dimensions for time-series analysis\n",
    "timesteps = 30  # Number of time steps in each sample\n",
    "features = data_scaled.shape[1]\n"
   ]
  },
  {
   "cell_type": "code",
   "execution_count": null,
   "metadata": {},
   "outputs": [],
   "source": [
    "def create_sequences(data, timesteps):\n",
    "    sequences = []\n",
    "    for i in range(len(data) - timesteps):\n",
    "        sequences.append(data[i:i+timesteps])\n",
    "    return np.array(sequences)\n",
    "\n",
    "data_sequences = create_sequences(data_scaled, timesteps)\n"
   ]
  },
  {
   "cell_type": "code",
   "execution_count": null,
   "metadata": {},
   "outputs": [],
   "source": [
    "# LSTM Autoencoder\n",
    "lstm_autoencoder = Sequential([\n",
    "    LSTM(64, activation='relu', input_shape=(timesteps, features), return_sequences=True),\n",
    "    LSTM(32, activation='relu', return_sequences=False),\n",
    "    RepeatVector(timesteps),\n",
    "    LSTM(32, activation='relu', return_sequences=True),\n",
    "    LSTM(64, activation='relu', return_sequences=True),\n",
    "    TimeDistributed(Dense(features))\n",
    "])\n",
    "\n",
    "lstm_autoencoder.compile(optimizer='adam', loss='mse')\n"
   ]
  },
  {
   "cell_type": "code",
   "execution_count": null,
   "metadata": {},
   "outputs": [],
   "source": [
    "# Train on normal (non-anomalous) data\n",
    "history = lstm_autoencoder.fit(data_sequences, data_sequences, epochs=50, batch_size=32, validation_split=0.2)"
   ]
  },
  {
   "cell_type": "code",
   "execution_count": null,
   "metadata": {},
   "outputs": [],
   "source": [
    "# Reconstruction loss threshold\n",
    "reconstructions = lstm_autoencoder.predict(data_sequences)\n",
    "mse_loss = np.mean(np.abs(data_sequences - reconstructions), axis=(1, 2))\n",
    "lstm_threshold = np.mean(mse_loss) + 2 * np.std(mse_loss)  # Set threshold at 2 standard deviations\n"
   ]
  },
  {
   "cell_type": "code",
   "execution_count": null,
   "metadata": {},
   "outputs": [],
   "source": [
    "# CNN model for anomaly detection\n",
    "cnn = Sequential([\n",
    "    Conv1D(64, kernel_size=3, activation='relu', input_shape=(timesteps, features)),\n",
    "    Conv1D(32, kernel_size=3, activation='relu'),\n",
    "    Flatten(),\n",
    "    Dense(1, activation='sigmoid')  # Output as probability of anomaly\n",
    "])\n",
    "\n",
    "cnn.compile(optimizer='adam', loss='binary_crossentropy')\n"
   ]
  },
  {
   "cell_type": "code",
   "execution_count": null,
   "metadata": {},
   "outputs": [],
   "source": [
    "# Create labels (0 for normal, 1 for anomalies)\n",
    "labels = np.zeros(data_sequences.shape[0])  # Normal data\n",
    "\n",
    "# Train CNN on normal data\n",
    "cnn.fit(data_sequences, labels, epochs=20, batch_size=32, validation_split=0.2)\n"
   ]
  },
  {
   "cell_type": "code",
   "execution_count": null,
   "metadata": {},
   "outputs": [],
   "source": [
    "# Train GMM on normal data\n",
    "gmm = GaussianMixture(n_components=2, covariance_type='full')\n",
    "gmm.fit(data_scaled)\n",
    "\n",
    "# Define GMM anomaly threshold based on log-likelihood of normal data\n",
    "gmm_scores = gmm.score_samples(data_scaled)\n",
    "gmm_threshold = np.mean(gmm_scores) - 2 * np.std(gmm_scores)  # Anomalies fall below this threshold\n"
   ]
  },
  {
   "cell_type": "code",
   "execution_count": null,
   "metadata": {},
   "outputs": [],
   "source": [
    "def detect_anomaly(sequence):\n",
    "    # LSTM Autoencoder reconstruction loss\n",
    "    lstm_reconstructed = lstm_autoencoder.predict(sequence.reshape(1, timesteps, features))\n",
    "    lstm_loss = np.mean(np.abs(sequence - lstm_reconstructed))\n",
    "\n",
    "    lstm_anomaly = lstm_loss > lstm_threshold\n",
    "\n",
    "    # CNN Prediction\n",
    "    cnn_pred = cnn.predict(sequence.reshape(1, timesteps, features))\n",
    "    cnn_anomaly = cnn_pred > 0.5  # Flag as anomaly if probability > 0.5\n",
    "\n",
    "    # GMM score\n",
    "    flattened_seq = sequence.flatten().reshape(1, -1)\n",
    "    gmm_score = gmm.score_samples(flattened_seq)\n",
    "    gmm_anomaly = gmm_score < gmm_threshold\n",
    "\n",
    "    # Ensemble decision: anomaly if two or more models flag it\n",
    "    anomaly_count = sum([lstm_anomaly, cnn_anomaly, gmm_anomaly])\n",
    "    is_anomaly = anomaly_count >= 2  # Flag as anomaly if 2 or more models agree\n",
    "\n",
    "    return is_anomaly, {\"LSTM\": lstm_anomaly, \"CNN\": cnn_anomaly, \"GMM\": gmm_anomaly}\n"
   ]
  },
  {
   "cell_type": "code",
   "execution_count": null,
   "metadata": {},
   "outputs": [],
   "source": [
    "# Test on new data\n",
    "new_data = pd.read_csv(\"new_seismic_oceanographic_data.csv\")  # Replace with actual path\n",
    "new_data_scaled = scaler.transform(new_data)\n",
    "new_data_sequences = create_sequences(new_data_scaled, timesteps)\n",
    "\n",
    "# Detect anomalies\n",
    "anomalies = []\n",
    "for sequence in new_data_sequences:\n",
    "    is_anomaly, model_results = detect_anomaly(sequence)\n",
    "    anomalies.append(is_anomaly)\n",
    "\n",
    "# Output detected anomalies\n",
    "anomaly_indices = np.where(anomalies)[0]\n",
    "print(\"Anomalies detected at indices:\", anomaly_indices)\n"
   ]
  }
 ],
 "metadata": {
  "kernelspec": {
   "display_name": "base",
   "language": "python",
   "name": "python3"
  },
  "language_info": {
   "codemirror_mode": {
    "name": "ipython",
    "version": 3
   },
   "file_extension": ".py",
   "mimetype": "text/x-python",
   "name": "python",
   "nbconvert_exporter": "python",
   "pygments_lexer": "ipython3",
   "version": "3.11.5"
  }
 },
 "nbformat": 4,
 "nbformat_minor": 2
}
